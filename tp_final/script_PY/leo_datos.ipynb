{
 "cells": [
  {
   "cell_type": "code",
   "execution_count": 75,
   "metadata": {
    "collapsed": true
   },
   "outputs": [],
   "source": [
    "#TP curso Python\n",
    "#\n",
    "# Voy a leer los datos de precipitacion diarios de estaciones de Argentina, y me voy a quedar con el mes de enero\n",
    "#\n",
    "#################################################################################################################"
   ]
  },
  {
   "cell_type": "code",
   "execution_count": 3,
   "metadata": {
    "collapsed": true
   },
   "outputs": [],
   "source": [
    "#Leo Archivo\n",
    "import numpy as np\n",
    "import pandas as pd\n",
    "fname='../Precipitacion_2.txt'\n",
    "#f=open('../Precipitacion_2.txt','r')"
   ]
  },
  {
   "cell_type": "code",
   "execution_count": 4,
   "metadata": {
    "collapsed": false
   },
   "outputs": [],
   "source": [
    "#leo con np fromtxt\n",
    "#datos=np.genfromtxt(fname,dtype=None,skip_header=1,usecols = (4))"
   ]
  },
  {
   "cell_type": "code",
   "execution_count": 5,
   "metadata": {
    "collapsed": false
   },
   "outputs": [],
   "source": [
    "#Leo con Pandas\n",
    "#data = pd.read_csv(fname, skiprows=1, header=None, sep='\\t')\n",
    "data = pd.read_csv(fname, header=0, index_col=0, sep='\\t', dtype=float)"
   ]
  },
  {
   "cell_type": "code",
   "execution_count": 6,
   "metadata": {
    "collapsed": false
   },
   "outputs": [],
   "source": [
    "#print(data)"
   ]
  },
  {
   "cell_type": "code",
   "execution_count": 30,
   "metadata": {
    "collapsed": false
   },
   "outputs": [
    {
     "data": {
      "text/plain": [
       "14975"
      ]
     },
     "execution_count": 30,
     "metadata": {},
     "output_type": "execute_result"
    }
   ],
   "source": [
    "data=data.replace(-999, np.nan)\n",
    "len(data)"
   ]
  },
  {
   "cell_type": "code",
   "execution_count": 32,
   "metadata": {
    "collapsed": false
   },
   "outputs": [
    {
     "data": {
      "text/plain": [
       "357"
      ]
     },
     "execution_count": 32,
     "metadata": {},
     "output_type": "execute_result"
    }
   ],
   "source": [
    "#Mes de enero\n",
    "enero=data[data.mes==1]\n",
    "enero=enero.Azul[enero.Azul>0]\n",
    "\n",
    "len(enero)"
   ]
  },
  {
   "cell_type": "code",
   "execution_count": 9,
   "metadata": {
    "collapsed": false
   },
   "outputs": [],
   "source": [
    "#EJEMPLO FRANCO\n",
    "#a = np.array([[1, 2, 3], [4, 5, 6], [7, 8, 9]])\n",
    "#a\n",
    "#a[a > 4]"
   ]
  },
  {
   "cell_type": "code",
   "execution_count": 23,
   "metadata": {
    "collapsed": false
   },
   "outputs": [],
   "source": [
    "#Calculo de Percentiles\n",
    "p10=np.percentile(enero,10)\n",
    "p20=np.percentile(enero,20)\n",
    "p30=np.percentile(enero,30)\n",
    "p40=np.percentile(enero,40)\n",
    "p50=np.percentile(enero,50)\n",
    "p60=np.percentile(enero,60)\n",
    "p70=np.percentile(enero,70)\n",
    "p80=np.percentile(enero,80)\n",
    "p90=np.percentile(enero,90)\n",
    "p100=np.percentile(enero,100)"
   ]
  },
  {
   "cell_type": "code",
   "execution_count": 95,
   "metadata": {
    "collapsed": false
   },
   "outputs": [],
   "source": [
    "#Ejemplo\n",
    "p100\n",
    "#Record historico de Azul del mes de enero:\n",
    "#anio\n",
    "var1=data[data.mes==1]\n",
    "a=var1.anio[var1.Azul==p100]\n",
    "aa=a.values[0]\n",
    "#dia\n",
    "var2=data[data.mes==1]\n",
    "d=var2.dia[var2.Azul==p100]\n",
    "dd=d.values[0]\n",
    "\n",
    "#fecha\n",
    "aa=np.array(aa,dtype=np.int)\n",
    "dd=np.array(dd,dtype=np.int)\n",
    "aa=str(aa)\n",
    "dd=str(dd)\n",
    "fecha=dd+\"/01/\"+aa"
   ]
  },
  {
   "cell_type": "code",
   "execution_count": 105,
   "metadata": {
    "collapsed": false
   },
   "outputs": [],
   "source": [
    "#Plotear el histograma de la estacion 1\n",
    "import matplotlib.pyplot as plt\n",
    "#import potly.potly as py\n",
    "\n",
    "#plt.hist(enero[:,1],bins=[0,20,40,60,80,100])\n",
    "plt.hist(enero, bins=12,facecolor='green', alpha=0.5)\n",
    "plt.title(\"Histograma de precipitacion de Azul - Mes de Enero\")\n",
    "plt.xlabel(\"Precipitacion\")\n",
    "plt.ylabel(\"Frecuencia\")\n",
    "\n",
    "#\n",
    "plt.text(115, 25, \"Record\", fontsize = 14)\n",
    "plt.text(110, 12, fecha, fontsize = 14)\n",
    "#ax.annotate(\"129\",xy=(125,10),arrowprops=dict(arrowstyle=\"->\"))\n",
    "\n",
    "plt.show()"
   ]
  },
  {
   "cell_type": "code",
   "execution_count": 97,
   "metadata": {
    "collapsed": false
   },
   "outputs": [
    {
     "data": {
      "text/plain": [
       "'16/01/1990'"
      ]
     },
     "execution_count": 97,
     "metadata": {},
     "output_type": "execute_result"
    }
   ],
   "source": [
    "fecha"
   ]
  },
  {
   "cell_type": "code",
   "execution_count": null,
   "metadata": {
    "collapsed": false
   },
   "outputs": [],
   "source": []
  },
  {
   "cell_type": "code",
   "execution_count": null,
   "metadata": {
    "collapsed": true
   },
   "outputs": [],
   "source": []
  }
 ],
 "metadata": {
  "anaconda-cloud": {},
  "kernelspec": {
   "display_name": "Python [Root]",
   "language": "python",
   "name": "Python [Root]"
  },
  "language_info": {
   "codemirror_mode": {
    "name": "ipython",
    "version": 3
   },
   "file_extension": ".py",
   "mimetype": "text/x-python",
   "name": "python",
   "nbconvert_exporter": "python",
   "pygments_lexer": "ipython3",
   "version": "3.5.2"
  }
 },
 "nbformat": 4,
 "nbformat_minor": 0
}
