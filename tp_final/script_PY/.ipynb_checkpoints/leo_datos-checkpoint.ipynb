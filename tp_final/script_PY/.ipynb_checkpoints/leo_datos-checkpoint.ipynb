{
 "cells": [
  {
   "cell_type": "code",
   "execution_count": 1,
   "metadata": {
    "collapsed": true
   },
   "outputs": [],
   "source": [
    "#TP curso Python\n",
    "#\n",
    "# Voy a leer los datos de precipitacion diarios de estaciones de Argentina, y me voy a quedar\n",
    "# con el mes seleccionado y realizo un histograma de la estacion Azul\n",
    "#\n",
    "#################################################################################################################"
   ]
  },
  {
   "cell_type": "code",
   "execution_count": 2,
   "metadata": {
    "collapsed": true
   },
   "outputs": [],
   "source": [
    "#Leo Archivo\n",
    "import numpy as np\n",
    "import pandas as pd\n",
    "fname='../Precipitacion_2.txt'\n",
    "#f=open('../Precipitacion_2.txt','r')"
   ]
  },
  {
   "cell_type": "code",
   "execution_count": 3,
   "metadata": {
    "collapsed": false
   },
   "outputs": [],
   "source": [
    "#leo con np fromtxt\n",
    "#datos=np.genfromtxt(fname,dtype=None,skip_header=1,usecols = (4))"
   ]
  },
  {
   "cell_type": "code",
   "execution_count": 4,
   "metadata": {
    "collapsed": false
   },
   "outputs": [],
   "source": [
    "#Leo con Pandas\n",
    "#data = pd.read_csv(fname, skiprows=1, header=None, sep='\\t')\n",
    "data = pd.read_csv(fname, header=0, index_col=0, sep='\\t', dtype=float)"
   ]
  },
  {
   "cell_type": "code",
   "execution_count": 5,
   "metadata": {
    "collapsed": false
   },
   "outputs": [],
   "source": [
    "#Imprimo los datos por pantalla:\n",
    "#print(data)"
   ]
  },
  {
   "cell_type": "code",
   "execution_count": 6,
   "metadata": {
    "collapsed": false
   },
   "outputs": [
    {
     "data": {
      "text/plain": [
       "14975"
      ]
     },
     "execution_count": 6,
     "metadata": {},
     "output_type": "execute_result"
    }
   ],
   "source": [
    "data=data.replace(-999, np.nan)\n",
    "len(data)"
   ]
  },
  {
   "cell_type": "code",
   "execution_count": 7,
   "metadata": {
    "collapsed": false
   },
   "outputs": [
    {
     "data": {
      "text/plain": [
       "261"
      ]
     },
     "execution_count": 7,
     "metadata": {},
     "output_type": "execute_result"
    }
   ],
   "source": [
    "# Datos del mes utilizado en el histograma para la estacion Azul\n",
    "mesh=4\n",
    "enero=data[data.mes==mesh]\n",
    "enero=enero.Azul[enero.Azul>0]\n",
    "len(enero)"
   ]
  },
  {
   "cell_type": "code",
   "execution_count": 8,
   "metadata": {
    "collapsed": false
   },
   "outputs": [
    {
     "name": "stdout",
     "output_type": "stream",
     "text": [
      "Mes de Abril\n"
     ]
    }
   ],
   "source": [
    "#Vemos el mes elegido\n",
    "if mesh == 1:\n",
    "    tmes=\"Mes de Enero\"\n",
    "    print(\"Mes de Enero\") \n",
    "elif mesh ==2: \n",
    "    tmes=\"Mes de Febrero\"\n",
    "    print(\"Mes de Febrero\")\n",
    "elif mesh ==3: \n",
    "    tmes=\"Mes de Marzo\"\n",
    "    print(\"Mes de Marzo\")\n",
    "elif mesh ==4: \n",
    "    tmes=\"Mes de Abril\"\n",
    "    print(\"Mes de Abril\")\n",
    "elif mesh ==5: \n",
    "    tmes=\"Mes de Mayo\"\n",
    "    print(\"Mes de Mayo\")\n",
    "elif mesh ==6: \n",
    "    tmes=\"Mes de Junio\"\n",
    "    print(\"Mes de Junio\")\n",
    "elif mesh ==7: \n",
    "    tmes=\"Mes de Julio\"\n",
    "    print(\"Mes de Julio\")\n",
    "elif mesh ==8: \n",
    "    tmes=\"Mes de Agosto\"\n",
    "    print(\"Mes de Agosto\")\n",
    "elif mesh ==9: \n",
    "    tmes=\"Mes de Septiembre\"\n",
    "    print(\"Mes de Septiembre\")\n",
    "elif mesh ==10: \n",
    "    tmes=\"Mes de Octubre\"\n",
    "    print(\"Mes de Octubre\")\n",
    "elif mesh ==11: \n",
    "    tmes=\"Mes de Noviembre\"\n",
    "    print(\"Mes de Noviembre\")\n",
    "elif mesh ==12: \n",
    "    tmes=\"Mes de Diciembre\"\n",
    "    print(\"Mes de Diciembre\")\n",
    "else:\n",
    "    print(\"Ese numero no corresponde a un mes\")"
   ]
  },
  {
   "cell_type": "code",
   "execution_count": 9,
   "metadata": {
    "collapsed": false
   },
   "outputs": [],
   "source": [
    "#Calculo de Percentiles\n",
    "p10=np.percentile(enero,10)\n",
    "p20=np.percentile(enero,20)\n",
    "p30=np.percentile(enero,30)\n",
    "p40=np.percentile(enero,40)\n",
    "p50=np.percentile(enero,50)\n",
    "p60=np.percentile(enero,60)\n",
    "p70=np.percentile(enero,70)\n",
    "p80=np.percentile(enero,80)\n",
    "p90=np.percentile(enero,90)\n",
    "p100=np.percentile(enero,100)"
   ]
  },
  {
   "cell_type": "code",
   "execution_count": 10,
   "metadata": {
    "collapsed": false
   },
   "outputs": [
    {
     "name": "stdout",
     "output_type": "stream",
     "text": [
      "175.0\n"
     ]
    }
   ],
   "source": [
    "#Ejemplo\n",
    "print(p100)\n",
    "#Record historico de Azul del mes de enero:\n",
    "#anio\n",
    "var1=data[data.mes==mesh]\n",
    "a=var1.anio[var1.Azul==p100]\n",
    "aa=a.values[0]\n",
    "#mes\n",
    "mesh2=str(mesh)\n",
    "#dia\n",
    "var2=data[data.mes==mesh]\n",
    "d=var2.dia[var2.Azul==p100]\n",
    "dd=d.values[0]\n",
    "\n",
    "#fecha\n",
    "aa=np.array(aa,dtype=np.int)\n",
    "dd=np.array(dd,dtype=np.int)\n",
    "aa=str(aa)\n",
    "dd=str(dd)\n",
    "fecha=dd+\"/\"+mesh2+\"/\"+aa"
   ]
  },
  {
   "cell_type": "code",
   "execution_count": 11,
   "metadata": {
    "collapsed": false
   },
   "outputs": [],
   "source": [
    "#Plotear el histograma de la estacion 1\n",
    "import matplotlib.pyplot as plt\n",
    "\n",
    "plt.hist(enero, bins=12,facecolor='green', alpha=0.5)\n",
    "plt.title(\"Histograma de precipitacion de Azul - \" + tmes)\n",
    "plt.xlabel(\"Precipitacion\")\n",
    "plt.ylabel(\"Frecuencia\")\n",
    "\n",
    "#\n",
    "plt.text(p100-20, 25, \"Record\", fontsize = 14, weight='bold')\n",
    "plt.text(p100-25, 12, fecha, fontsize = 14)\n",
    "#plt.show()\n",
    "#Guardo\n",
    "#plt.savefig(\"hist_azul.eps\")\n",
    "plt.savefig(\"../output/hist_azul.png\",bbox_inches='tight')\n",
    "plt.show()\n",
    "#plt.close()\n",
    "\n",
    "# VIEJO\n",
    "#import potly.potly as py\n",
    "#ax.annotate(\"129\",xy=(125,10),arrowprops=dict(arrowstyle=\"->\"))\n",
    "#plt.hist(enero[:,1],bins=[0,20,40,60,80,100])\n",
    "#EJEMPLO FRANCO\n",
    "#a = np.array([[1, 2, 3], [4, 5, 6], [7, 8, 9]])\n",
    "#a\n",
    "#a[a > 4]"
   ]
  },
  {
   "cell_type": "code",
   "execution_count": 12,
   "metadata": {
    "collapsed": false
   },
   "outputs": [
    {
     "data": {
      "text/plain": [
       "'28/4/1980'"
      ]
     },
     "execution_count": 12,
     "metadata": {},
     "output_type": "execute_result"
    }
   ],
   "source": [
    "fecha"
   ]
  },
  {
   "cell_type": "code",
   "execution_count": null,
   "metadata": {
    "collapsed": false
   },
   "outputs": [],
   "source": []
  },
  {
   "cell_type": "code",
   "execution_count": null,
   "metadata": {
    "collapsed": true
   },
   "outputs": [],
   "source": []
  }
 ],
 "metadata": {
  "anaconda-cloud": {},
  "kernelspec": {
   "display_name": "Python [Root]",
   "language": "python",
   "name": "Python [Root]"
  },
  "language_info": {
   "codemirror_mode": {
    "name": "ipython",
    "version": 3
   },
   "file_extension": ".py",
   "mimetype": "text/x-python",
   "name": "python",
   "nbconvert_exporter": "python",
   "pygments_lexer": "ipython3",
   "version": "3.5.2"
  }
 },
 "nbformat": 4,
 "nbformat_minor": 0
}
